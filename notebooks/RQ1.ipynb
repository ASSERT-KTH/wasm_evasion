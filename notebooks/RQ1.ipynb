{
 "cells": [
  {
   "cell_type": "markdown",
   "id": "87117ee8",
   "metadata": {},
   "source": [
    "# RQ1 mutation map\n",
    "\n",
    "## To what extent the sota benchmark is mutable according to wasm-mutate?\n"
   ]
  },
  {
   "cell_type": "code",
   "execution_count": 56,
   "id": "92d0295f",
   "metadata": {
    "scrolled": true
   },
   "outputs": [
    {
     "ename": "SyntaxError",
     "evalue": "invalid syntax (3963467581.py, line 131)",
     "output_type": "error",
     "traceback": [
      "\u001b[0;36m  Input \u001b[0;32mIn [56]\u001b[0;36m\u001b[0m\n\u001b[0;31m    plt.rcParams[\"figure.figsize\"] = (1200, 1200, dpi=50)\u001b[0m\n\u001b[0m                                                     ^\u001b[0m\n\u001b[0;31mSyntaxError\u001b[0m\u001b[0;31m:\u001b[0m invalid syntax\n"
     ]
    }
   ],
   "source": [
    "import networkx as nx\n",
    "import matplotlib.pyplot as plt\n",
    "import itertools\n",
    "import json\n",
    "\n",
    "def load_sets(name):\n",
    "    a = open(name, 'r').read()\n",
    "    data = json.loads(a)\n",
    "    \n",
    "    sets = {}\n",
    "    \n",
    "    upto=-1\n",
    "    for i, t in enumerate(data[:upto]):\n",
    "        name = t['id']\n",
    "        mutations = t['mutations']\n",
    "        \n",
    "        for m in mutations:\n",
    "            if m['class_name'] not in sets:\n",
    "                sets[m['class_name']] = set()\n",
    "            sets[m['class_name']].add(i)\n",
    "            \n",
    "    for k, v in sets.items():\n",
    "        print(k, len(v))\n",
    "    return list(zip(sets.keys(), sets.values())), len(data[:upto])\n",
    "\n",
    "def get_node_sets(nodes, total, operator=\"+\"):\n",
    "        \n",
    "        \n",
    "    def merge(sets):\n",
    "        #print(sets)\n",
    "        r = sets[0]\n",
    "        \n",
    "        if operator == \"+\":\n",
    "            op = r.union\n",
    "        elif operator == \"i\":\n",
    "            op = r.intersection\n",
    "        \n",
    "        for c in sets[1:]:\n",
    "            r = op(c)\n",
    "            \n",
    "            if operator == \"+\":\n",
    "                op = r.union\n",
    "            elif operator == \"i\":\n",
    "                op = r.intersection\n",
    "        \n",
    "        return r\n",
    "    \n",
    "    def get_combinations(sets, size=2, plot_percentage=True):\n",
    "        #names, sets = [s[0] for s in sets], [s[1] for s in sets]\n",
    "        combs = [c for c in itertools.combinations(sets, size)]\n",
    "        \n",
    "        r = []\n",
    "        \n",
    "        edges = []\n",
    "        for c in combs:\n",
    "            #print(\"Combination\", c)\n",
    "            names, sets = [ cc[0] for cc in c ], [cc[1] for cc in c]\n",
    "            merged = merge(sets)\n",
    "            \n",
    "            #print(names)\n",
    "            id = f\"-{operator}-\".join(names)\n",
    "            s = (len(merged)/total) if plot_percentage else len(merged)\n",
    "            #id = f\"{id}({s})\"\n",
    "            print(id)\n",
    "            \n",
    "            for i in sorted(names):\n",
    "                if id != f\"{i}\":\n",
    "                    \n",
    "                    color='black'\n",
    "\n",
    "                    if len(merged) == 0:\n",
    "                        color='C1'\n",
    "                    edges.append((id, f\"{i}\", dict(color='black')))\n",
    "                    \n",
    "            color='C0'\n",
    "            \n",
    "            if size==1:\n",
    "                color='C2'\n",
    "            elif len(merged) == 0:\n",
    "                color='C1'\n",
    "            #print(len(merged), s)\n",
    "            label = id.replace(f\"-{operator}-\", \"\\n\")\n",
    "                \n",
    "            r.append((id, dict(count=len(merged), size=len(merged), set=merged, id=id, label=label, s=s, color=color)))\n",
    "            \n",
    "        return r, edges\n",
    "    \n",
    "    allnodes = []\n",
    "    alledges = []\n",
    "    for k in range(1, len(nodes) + 1):\n",
    "        newsets, edges = get_combinations(nodes, k)\n",
    "        \n",
    "        allnodes +=  newsets\n",
    "        alledges += edges\n",
    "        \n",
    "    return allnodes, alledges\n",
    "\n",
    "    \n",
    "sets, total = load_sets(\"all.json\")\n",
    "print(total)\n",
    "\n",
    "nodes, edges = get_node_sets(sets, total, operator='i')\n",
    "\n",
    "print(len(nodes), len(edges))\n",
    "\n",
    "\n",
    "    \n",
    "scale_factor = 10\n",
    "node_sizes = [ scale_factor+n[1]['size']*scale_factor for n in nodes ]\n",
    "colors = [ n[1]['color'] for n in nodes ]\n",
    "edge_colors = [e[2]['color'] for e in edges] \n",
    "\n",
    "\n",
    "G = nx.Graph()\n",
    "G.add_nodes_from(nodes)\n",
    "\n",
    "node_labels = { n[1]['id'] : \"%s\\n%s\"%(n[1]['label'], n[1]['s']) for n in nodes }\n",
    "\n",
    "#for e in edges:\n",
    "    #print(e)\n",
    "G.add_edges_from(edges)\n",
    "    \n",
    "nx.draw(G,with_labels=True,\n",
    "         pos=nx.shell_layout(G),\n",
    "         node_color = colors,\n",
    "         node_size=node_sizes,\n",
    "         labels=node_labels\n",
    "         #edge_color=edge_colors\n",
    "        )\n",
    "\n",
    "plt.rcParams[\"figure.figsize\"] = (1200, 1200, dpi=50)\n",
    "plt.axis('off')\n",
    "plt.savefig(\"plot.png\")"
   ]
  },
  {
   "cell_type": "code",
   "execution_count": 1,
   "id": "0c1be72b",
   "metadata": {
    "scrolled": true
   },
   "outputs": [
    {
     "name": "stdout",
     "output_type": "stream",
     "text": [
      "{1, 2}\n"
     ]
    }
   ],
   "source": [
    "r=set([1,2])\n",
    "print(r.intersection(r))"
   ]
  },
  {
   "cell_type": "code",
   "execution_count": null,
   "id": "f2fed687",
   "metadata": {},
   "outputs": [],
   "source": []
  }
 ],
 "metadata": {
  "kernelspec": {
   "display_name": "Python 3 (ipykernel)",
   "language": "python",
   "name": "python3"
  },
  "language_info": {
   "codemirror_mode": {
    "name": "ipython",
    "version": 3
   },
   "file_extension": ".py",
   "mimetype": "text/x-python",
   "name": "python",
   "nbconvert_exporter": "python",
   "pygments_lexer": "ipython3",
   "version": "3.9.12"
  }
 },
 "nbformat": 4,
 "nbformat_minor": 5
}
