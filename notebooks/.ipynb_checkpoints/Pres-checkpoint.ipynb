{
 "cells": [
  {
   "cell_type": "code",
   "execution_count": 1,
   "id": "d78b1fb1",
   "metadata": {
    "ExecuteTime": {
     "end_time": "2022-10-12T08:23:11.824575Z",
     "start_time": "2022-10-12T08:23:09.854803Z"
    }
   },
   "outputs": [],
   "source": [
    "import matplotlib.pyplot as plt"
   ]
  },
  {
   "cell_type": "code",
   "execution_count": 25,
   "id": "47aaaa61",
   "metadata": {
    "ExecuteTime": {
     "end_time": "2022-10-12T08:37:59.404299Z",
     "start_time": "2022-10-12T08:37:59.395675Z"
    }
   },
   "outputs": [],
   "source": [
    "\n",
    "import matplotlib\n",
    "from math import sqrt\n",
    "SPINE_COLOR = 'gray'\n",
    "plt.style.use('seaborn-colorblind')\n",
    "import re\n",
    "\n",
    "def latexify(fig_width=None, fig_height=None, columns=1, font_size=8, tick_size=8):\n",
    "    \"\"\"Set up matplotlib's RC params for LaTeX plotting.\n",
    "    Call this before plotting a figure.\n",
    "\n",
    "    Parameters\n",
    "    ----------\n",
    "    fig_width : float, optional, inches\n",
    "    fig_height : float,  optional, inches\n",
    "    columns : {1, 2}\n",
    "    \"\"\"\n",
    "\n",
    "    # code adapted from http://www.scipy.org/Cookbook/Matplotlib/LaTeX_Examples\n",
    "\n",
    "    # Width and max height in inches for IEEE journals taken from\n",
    "    # computer.org/cms/Computer.org/Journal%20templates/transactions_art_guide.pdf\n",
    "\n",
    "    #assert(columns in [1,2])\n",
    "\n",
    "    if fig_width is None:\n",
    "        fig_width = 3.7 if columns==1 else 6.9 # width in inches\n",
    "\n",
    "    if fig_height is None:\n",
    "        golden_mean = (sqrt(5)-1.0)/2.0 # Aesthetic ratio\n",
    "        fig_height = fig_width*golden_mean + 1.2 # height in inches\n",
    "\n",
    "    #if fig_height > MAX_HEIGHT_INCHES:\n",
    "    print(f\"WARNING: fig_height too large: {fig_height}.\")\n",
    "    #print(matplotlib.rcParams.keys())\n",
    "    pgf_with_latex = {                    # setup matplotlib to use latex for output\n",
    "        \"pgf.texsystem\": \"pdflatex\",        # change this if using xetex or lautex\n",
    "        \"text.usetex\": True,                # use LaTeX to write all text\n",
    "        \"font.family\": \"serif\",\n",
    "        \"font.serif\": [],                  # blank entries should cause plots\n",
    "        \"font.monospace\": [],\n",
    "        \"axes.labelsize\": font_size,               # LaTeX default is 10pt font.\n",
    "        \"font.size\": font_size,\n",
    "        \"legend.fontsize\": font_size,              # Make the legend/label fonts\n",
    "        \"xtick.labelsize\": tick_size,              # a little smaller\n",
    "        \"ytick.labelsize\": tick_size,\n",
    "        \"figure.figsize\": [fig_width, fig_height],   # default fig size of 0.9 textwidth\n",
    "        #\"pgf.preamble\": [\n",
    "        #   r\"\\\\usepackage[utf8x]{inputenc}\",   # use utf8 fonts\n",
    "        #   r\"\\\\usepackage[T1]{fontenc}\",       # plots will be generated\n",
    "        #   r\"\\\\usepackage[detect-all,locale=DE]{siunitx}\",\n",
    "        #   ]                                  # using this preamble\n",
    "        }\n",
    "\n",
    "    matplotlib.rcParams.update(pgf_with_latex)\n",
    "\n",
    "\n",
    "def format_axes(ax, hide = ['top', 'right'], show= ['left', 'bottom']):\n",
    "\n",
    "    for spine in hide:\n",
    "        ax.spines[spine].set_visible(False)\n",
    "\n",
    "    for spine in show:\n",
    "        ax.spines[spine].set_color(SPINE_COLOR)\n",
    "        ax.spines[spine].set_linewidth(0.5)\n",
    "\n",
    "    ax.xaxis.set_ticks_position('bottom')\n",
    "    ax.yaxis.set_ticks_position('left')\n",
    "\n",
    "    for axis in [ax.xaxis, ax.yaxis]:\n",
    "        axis.set_tick_params(direction='out', color=SPINE_COLOR)\n",
    "\n",
    "    return ax\n"
   ]
  },
  {
   "cell_type": "code",
   "execution_count": 35,
   "id": "2396f449",
   "metadata": {
    "ExecuteTime": {
     "end_time": "2022-10-12T08:42:28.998455Z",
     "start_time": "2022-10-12T08:42:22.196904Z"
    }
   },
   "outputs": [
    {
     "name": "stdout",
     "output_type": "stream",
     "text": [
      "WARNING: fig_height too large: 4.5.\n"
     ]
    },
    {
     "data": {
      "image/png": "[encoded data removed]",
      "text/plain": [
       "<Figure size 864x180 with 1 Axes>"
      ]
     },
     "metadata": {
      "needs_background": "light"
     },
     "output_type": "display_data"
    }
   ],
   "source": [
    "import random\n",
    "\n",
    "nodes = 60\n",
    "endpoints = {\n",
    "    \"bin2base64\": [\n",
    "        [ 0.4+(random.random()/8) for _ in range(100) ] # one for each node\n",
    "    ]*nodes,\n",
    "    \"decrypt\": [\n",
    "        [ min(0.98+(random.random()/5), 1) for _ in range(100) ]\n",
    "    ]*nodes,\n",
    "    \"encrypt\": [\n",
    "        \n",
    "        [ min(1, 0.99+(random.random()/3)) for _ in range(100) ]\n",
    "    ]*nodes,\n",
    "    \"invert\": [\n",
    "        \n",
    "        [ min(0.97+(random.random()/3), 1) for _ in range(100) ]\n",
    "    ]*nodes,\n",
    "    \"random\": [\n",
    "        \n",
    "        [ min(0.98+(random.random()/5), 1) for _ in range(100) ]\n",
    "    ]*nodes,\n",
    "    \"qr_str\": [\n",
    "        \n",
    "        [ min(0.999+(random.random()/80), 1) for _ in range(100) ]\n",
    "    ]*nodes,\n",
    "    \"qr_image\": [\n",
    "        \n",
    "        [ min(0.999, 1+(random.random()/80)) for _ in range(100) ]\n",
    "    ]*nodes\n",
    "}\n",
    "\n",
    "fig, ax = plt.subplots(1)\n",
    "\n",
    "\n",
    "\n",
    "latexify(fig_width=12, fig_height=4.5, font_size=14, tick_size=12)\n",
    "\n",
    "#format_axes(ax, show=['bottom',  'left'], hide=['top', 'right'])\n",
    "format_axes(ax, hide=['top', 'right'], show=['left', 'bottom'])\n",
    "\n",
    "ax.set_xticks([])\n",
    "#ax.violinplot(vals, showmeans=True)#, widths=[1.2]*len(vals))\n",
    "ax.set_ylabel(\"Entropy\")\n",
    "\n",
    "ax.set_ylim(0, 1.2)\n",
    "for i, (e, vals) in enumerate(endpoints.items()):\n",
    "    for node in vals:\n",
    "        ax.scatter(\n",
    "            [i]*len(node),\n",
    "            node,\n",
    "            alpha=0.1, color=[0.8,0.8,0.8,0], edgecolors='C0',\n",
    "        )\n",
    "\n",
    "plt.savefig(\"scatter_entropy.png\", dpi=300)"
   ]
  },
  {
   "cell_type": "code",
   "execution_count": null,
   "id": "4d6d0ab9",
   "metadata": {},
   "outputs": [],
   "source": []
  }
 ],
 "metadata": {
  "kernelspec": {
   "display_name": "Python 3 (ipykernel)",
   "language": "python",
   "name": "python3"
  },
  "language_info": {
   "codemirror_mode": {
    "name": "ipython",
    "version": 3
   },
   "file_extension": ".py",
   "mimetype": "text/x-python",
   "name": "python",
   "nbconvert_exporter": "python",
   "pygments_lexer": "ipython3",
   "version": "3.9.12"
  },
  "latex_envs": {
   "LaTeX_envs_menu_present": true,
   "autoclose": false,
   "autocomplete": true,
   "bibliofile": "biblio.bib",
   "cite_by": "apalike",
   "current_citInitial": 1,
   "eqLabelWithNumbers": true,
   "eqNumInitial": 1,
   "hotkeys": {
    "equation": "Ctrl-E",
    "itemize": "Ctrl-I"
   },
   "labels_anchors": false,
   "latex_user_defs": false,
   "report_style_numbering": false,
   "user_envs_cfg": false
  }
 },
 "nbformat": 4,
 "nbformat_minor": 5
}
