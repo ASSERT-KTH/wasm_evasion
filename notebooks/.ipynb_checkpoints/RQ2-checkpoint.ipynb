{
 "cells": [
  {
   "cell_type": "markdown",
   "id": "90b19929",
   "metadata": {},
   "source": [
    "## Smart search\n"
   ]
  },
  {
   "cell_type": "markdown",
   "id": "2421eac4",
   "metadata": {
    "ExecuteTime": {
     "end_time": "2022-09-08T19:11:35.892251Z",
     "start_time": "2022-09-08T19:11:35.885001Z"
    }
   },
   "source": [
    "```python\n",
    "def dist(q, seed, operators):\n",
    "    # return the sum of the complexity of the mutations as the distance\n",
    "    # if a peephole was applied, sum the size of the tree\n",
    "    # use the manual annotation of the operators\n",
    "    # the diff in size between the binaries\n",
    "\n",
    "def qprob(v1, v2, operator):\n",
    "    # return the prob of applying operator according to RQ0.1 \n",
    "\n",
    "def A((q, operators), (qmut, operatorsmut), seed, sigma):\n",
    "    q1 = qprob(q, qmut, operators[-1]) # get last applied\n",
    "    q2 = qprob(qmut, q, operators[-1].reverse()) # the reverse of the transformation\n",
    "    \n",
    "    dist1 = dist(q, seed, operators)\n",
    "    dist2 = dist(qmut, seed, operatorsmut)\n",
    "    \n",
    "    e = exp(reward*(dist1 - dist2))\n",
    "    \n",
    "    return min([1, e*q1/q2])\n",
    "\n",
    "\n",
    "def random_search(wasm, oracle, mut_iterations=1):\n",
    "    q, operators = wasm, []\n",
    "    \n",
    "    for i in range(MAX):\n",
    "        qmut, operatorsmut = mutate(q, mut_iterations)\n",
    "        reward = oracle(qmut)\n",
    "        # reward guided, the more reward, the best prob of mutating through ?\n",
    "        if reward == 0:\n",
    "            report(qmut)\n",
    "            exit\n",
    "            \n",
    "        if rand(0, 1) < A((q, operators), (qmut, operatorsmut), wasm, reward):\n",
    "            q = qmut\n",
    "            operators = operatorsmut\n",
    "```           "
   ]
  },
  {
   "cell_type": "markdown",
   "id": "d22ab7ec",
   "metadata": {},
   "source": [
    "hyperparameters (flags):\n",
    " - rewarded -> {0, 1}\n",
    " - distance based on the number of mutations -> {0, 1}\n",
    " - distance based on the specific information of the operators -> {0, 1}\n",
    " - same prob for operators and reverse operator -> {0, 1}\n",
    " - size between variants -> {0, 1}\n",
    " - max (500, 1000)\n"
   ]
  },
  {
   "cell_type": "code",
   "execution_count": null,
   "id": "d132ca65",
   "metadata": {},
   "outputs": [],
   "source": []
  }
 ],
 "metadata": {
  "kernelspec": {
   "display_name": "Python 3 (ipykernel)",
   "language": "python",
   "name": "python3"
  },
  "language_info": {
   "codemirror_mode": {
    "name": "ipython",
    "version": 3
   },
   "file_extension": ".py",
   "mimetype": "text/x-python",
   "name": "python",
   "nbconvert_exporter": "python",
   "pygments_lexer": "ipython3",
   "version": "3.9.12"
  },
  "latex_envs": {
   "LaTeX_envs_menu_present": true,
   "autoclose": false,
   "autocomplete": true,
   "bibliofile": "biblio.bib",
   "cite_by": "apalike",
   "current_citInitial": 1,
   "eqLabelWithNumbers": true,
   "eqNumInitial": 1,
   "hotkeys": {
    "equation": "Ctrl-E",
    "itemize": "Ctrl-I"
   },
   "labels_anchors": false,
   "latex_user_defs": false,
   "report_style_numbering": false,
   "user_envs_cfg": false
  }
 },
 "nbformat": 4,
 "nbformat_minor": 5
}
